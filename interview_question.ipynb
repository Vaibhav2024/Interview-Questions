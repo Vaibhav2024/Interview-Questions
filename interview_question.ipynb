{
 "cells": [
  {
   "cell_type": "markdown",
   "metadata": {},
   "source": [
    "## remove the empty tuple from a list"
   ]
  },
  {
   "cell_type": "code",
   "execution_count": 3,
   "metadata": {},
   "outputs": [
    {
     "name": "stdout",
     "output_type": "stream",
     "text": [
      "[1, 2, 3, (1, 2), 879, 'FFF', [], {}]\n"
     ]
    }
   ],
   "source": [
    "file1 = [1,2,3,(),(1,2),879,\"FFF\",(),[],{}]\n",
    "empty_tuple = [x for x in file1 if x!= ()]\n",
    "print(empty_tuple)"
   ]
  },
  {
   "cell_type": "markdown",
   "metadata": {},
   "source": [
    "## reverse each word with reverse string"
   ]
  },
  {
   "cell_type": "code",
   "execution_count": 10,
   "metadata": {},
   "outputs": [
    {
     "name": "stdout",
     "output_type": "stream",
     "text": [
      "['i', 'am', 'swagatika..', 'das', '.']\n",
      ". sad ..akitagaws ma i "
     ]
    }
   ],
   "source": [
    "input_string = \"i am swagatika.. das .\"\n",
    "input_list = input_string.split(\" \")\n",
    "print(input_list)\n",
    "for i in reversed(input_list):\n",
    "    print(i[::-1], end=\" \")"
   ]
  },
  {
   "cell_type": "markdown",
   "metadata": {},
   "source": [
    "## Reverse a integer"
   ]
  },
  {
   "cell_type": "code",
   "execution_count": 11,
   "metadata": {},
   "outputs": [
    {
     "name": "stdout",
     "output_type": "stream",
     "text": [
      "4321\n"
     ]
    }
   ],
   "source": [
    "num = 1234\n",
    "reversed_num = 0\n",
    "\n",
    "while num != 0:\n",
    "    digit = num % 10\n",
    "    reversed_num = reversed_num * 10 + digit\n",
    "    num //= 10\n",
    "\n",
    "print(reversed_num)"
   ]
  },
  {
   "cell_type": "markdown",
   "metadata": {},
   "source": [
    "## Reverse character of a string but special character remain in same position"
   ]
  },
  {
   "cell_type": "code",
   "execution_count": 12,
   "metadata": {},
   "outputs": [
    {
     "name": "stdout",
     "output_type": "stream",
     "text": [
      "ugjk565$$%*ytVtr#ghB^)(gbsa\n"
     ]
    }
   ],
   "source": [
    "input_string = \"asbg565$$%*Bhgrt#Vty^)(kjgu\"\n",
    "input_list = list(input_string)\n",
    "start = 0\n",
    "end = len(input_list) - 1\n",
    "\n",
    "while start < end:\n",
    "    if not input_list[start].isalpha():\n",
    "        start += 1\n",
    "    elif not input_list[end].isalpha():\n",
    "        end -= 1\n",
    "    else:\n",
    "        input_list[start], input_list[end] = input_list[end], input_list[start]\n",
    "        start += 1\n",
    "        end -= 1\n",
    "\n",
    "result = \"\".join(input_list)\n",
    "print(result)"
   ]
  },
  {
   "cell_type": "markdown",
   "metadata": {},
   "source": [
    "## sort function"
   ]
  },
  {
   "cell_type": "code",
   "execution_count": 21,
   "metadata": {},
   "outputs": [
    {
     "name": "stdout",
     "output_type": "stream",
     "text": [
      "[0, 0, 0, 6, 7, 8, 8, 9, 9, 9, 9, 10, 11]\n"
     ]
    }
   ],
   "source": [
    "input_string = [10,11,9,8,7,6,9,0,9,0,0,9,8]\n",
    "for i in range(0, len(input_string)):\n",
    "    for j in range(i, len(input_string)):\n",
    "        if input_string[i] > input_string[j]:\n",
    "            input_string[i], input_string[j] = input_string[j], input_string[i]\n",
    "\n",
    "print(input_string)"
   ]
  },
  {
   "cell_type": "markdown",
   "metadata": {},
   "source": [
    "## find the repetition of character"
   ]
  },
  {
   "cell_type": "code",
   "execution_count": 2,
   "metadata": {},
   "outputs": [
    {
     "name": "stdout",
     "output_type": "stream",
     "text": [
      "{'w': 2, 'k': 1, 'f': 1, 'r': 1, 'd': 2, 's': 2, 'a': 1, 'v': 1, 'g': 1}\n"
     ]
    }
   ],
   "source": [
    "list1 = ['w','w','k','f','r','d','s','s','d','a','v','g']\n",
    "dict = {}\n",
    "for i in list1:\n",
    "    if i in dict:\n",
    "        dict[i] += 1\n",
    "    else:\n",
    "        dict[i] = 1\n",
    "\n",
    "print(dict)"
   ]
  },
  {
   "cell_type": "markdown",
   "metadata": {},
   "source": [
    "## find the frequency of word in a list"
   ]
  },
  {
   "cell_type": "code",
   "execution_count": 10,
   "metadata": {},
   "outputs": [
    {
     "name": "stdout",
     "output_type": "stream",
     "text": [
      "{'dog': 2, 'cat': 3, 'pig': 1, 'bird': 1, 'nest': 1}\n",
      "2\n"
     ]
    }
   ],
   "source": [
    "fre_list = [\"dog\",\"cat\",\"cat\",\"pig\",\"bird\",\"cat\",\"dog\",\"nest\"]\n",
    "count = {}\n",
    "for i in fre_list:\n",
    "    if i in count:\n",
    "        count[i] += 1\n",
    "    else:\n",
    "        count[i] = 1\n",
    "\n",
    "print(count)\n",
    "\n",
    "for i in count:\n",
    "    if count.get(i) == 4:\n",
    "        print(f\"Four {i} instances.\")\n",
    "\n",
    "print(count.get(\"dog\"))\n"
   ]
  },
  {
   "cell_type": "markdown",
   "metadata": {},
   "source": [
    "## Sum of digit until it reduces to single digit"
   ]
  },
  {
   "cell_type": "code",
   "execution_count": 16,
   "metadata": {},
   "outputs": [
    {
     "name": "stdout",
     "output_type": "stream",
     "text": [
      "28\n"
     ]
    }
   ],
   "source": [
    "n = 25678\n",
    "while n > 9:\n",
    "    sum = 0\n",
    "    while(n > 0):\n",
    "        digit = n % 10\n",
    "        sum = sum + digit\n",
    "        n = n // 10\n",
    "\n",
    "print(sum)"
   ]
  },
  {
   "cell_type": "markdown",
   "metadata": {},
   "source": [
    " ## find the prime number between 100 and 200"
   ]
  },
  {
   "cell_type": "code",
   "execution_count": 20,
   "metadata": {},
   "outputs": [
    {
     "name": "stdout",
     "output_type": "stream",
     "text": [
      "101\n",
      "103\n",
      "107\n",
      "109\n",
      "113\n",
      "127\n",
      "131\n",
      "137\n",
      "139\n",
      "149\n",
      "151\n",
      "157\n",
      "163\n",
      "167\n",
      "173\n",
      "179\n",
      "181\n",
      "191\n",
      "193\n",
      "197\n",
      "199\n"
     ]
    }
   ],
   "source": [
    "for i in range(100, 201):\n",
    "    if i > 1:\n",
    "        for j in range(2, i):\n",
    "            if (i%j) == 0:\n",
    "                break\n",
    "        else:           # we can use else with for in python\n",
    "            print(i) "
   ]
  },
  {
   "cell_type": "markdown",
   "metadata": {},
   "source": [
    "## Fibonacci series till a number 1, 1, 2, 3, 5, 8,13"
   ]
  },
  {
   "cell_type": "code",
   "execution_count": 22,
   "metadata": {},
   "outputs": [
    {
     "name": "stdout",
     "output_type": "stream",
     "text": [
      "0 1 1 2 3 5 8 13 21 "
     ]
    }
   ],
   "source": [
    "def fib(number):\n",
    "    for i in range(0, number + 1):\n",
    "        if number == 1:\n",
    "            return 1\n",
    "        elif number == 0:\n",
    "            return 0\n",
    "        elif number == 2:\n",
    "            return 1\n",
    "        else:\n",
    "            return fib(number - 1) + fib(number - 2)\n",
    "\n",
    "number = 9\n",
    "for i in range(number):\n",
    "    print(fib(i), end=\" \")"
   ]
  },
  {
   "cell_type": "markdown",
   "metadata": {},
   "source": [
    "## Fibonacci series till a number 1, 1, 2, 3, 5, 8,13"
   ]
  },
  {
   "cell_type": "code",
   "execution_count": 23,
   "metadata": {},
   "outputs": [
    {
     "name": "stdout",
     "output_type": "stream",
     "text": [
      "0\n",
      "1\n",
      "1\n",
      "2\n",
      "3\n",
      "5\n",
      "8\n"
     ]
    }
   ],
   "source": [
    "a = 0\n",
    "b = 1\n",
    "count = 0\n",
    "while count < 7:\n",
    "    print(a)\n",
    "    a, b = b, a + b\n",
    "    count += 1"
   ]
  },
  {
   "cell_type": "markdown",
   "metadata": {},
   "source": [
    "## Fibonacci series till a number 1, 1, 2, 3, 5, 8,13"
   ]
  },
  {
   "cell_type": "code",
   "execution_count": 29,
   "metadata": {},
   "outputs": [
    {
     "name": "stdout",
     "output_type": "stream",
     "text": [
      "0\n",
      "1\n",
      "1\n",
      "2\n",
      "3\n",
      "5\n",
      "8\n",
      "13\n",
      "21\n"
     ]
    }
   ],
   "source": [
    "def fibonacci(n):\n",
    "    a, b = 0, 1\n",
    "    count = 0\n",
    "    while count < n:\n",
    "        yield a\n",
    "        a, b = b, a + b\n",
    "        count += 1\n",
    "\n",
    "for i in fibonacci(9):\n",
    "    print(i)"
   ]
  },
  {
   "cell_type": "markdown",
   "metadata": {},
   "source": [
    "## print a list in reverse order"
   ]
  },
  {
   "cell_type": "code",
   "execution_count": 30,
   "metadata": {},
   "outputs": [
    {
     "name": "stdout",
     "output_type": "stream",
     "text": [
      "[4, 3, 5, 4, 7, 98, 2, 1]\n"
     ]
    }
   ],
   "source": [
    "input_list = [1,2,98,7,4,5,3,4]\n",
    "print(input_list[::-1])"
   ]
  },
  {
   "cell_type": "markdown",
   "metadata": {},
   "source": [
    "## find even no using generator:"
   ]
  },
  {
   "cell_type": "code",
   "execution_count": 3,
   "metadata": {},
   "outputs": [
    {
     "name": "stdout",
     "output_type": "stream",
     "text": [
      "[2, 4, 6, 8, 10]\n"
     ]
    }
   ],
   "source": [
    "def even(n):\n",
    "    for i in range(1, n+1):\n",
    "        if i % 2 == 0:\n",
    "            yield i\n",
    "\n",
    "numbers = []\n",
    "for n in even(10):\n",
    "    numbers.append(n)\n",
    "\n",
    "print(numbers)"
   ]
  },
  {
   "cell_type": "markdown",
   "metadata": {},
   "source": [
    "## find multiply with 2 in generator"
   ]
  },
  {
   "cell_type": "code",
   "execution_count": 6,
   "metadata": {},
   "outputs": [
    {
     "name": "stdout",
     "output_type": "stream",
     "text": [
      "2\n",
      "4\n",
      "6\n",
      "8\n",
      "10\n"
     ]
    }
   ],
   "source": [
    "def even(n):\n",
    "    for i in range(1, n+1):\n",
    "        yield i * 2\n",
    "\n",
    "for i in even(5):\n",
    "    print(i)"
   ]
  },
  {
   "cell_type": "markdown",
   "metadata": {},
   "source": [
    "## string is palindrome or not abcdcba"
   ]
  },
  {
   "cell_type": "code",
   "execution_count": 22,
   "metadata": {},
   "outputs": [
    {
     "name": "stdout",
     "output_type": "stream",
     "text": [
      "The String is Palindrom\n"
     ]
    }
   ],
   "source": [
    "str1 = \"malayalam\"\n",
    "start = 0\n",
    "last_index = len(str1) - 1\n",
    "while start < last_index:\n",
    "    if str1[start] == str1[last_index]:\n",
    "        start += 1\n",
    "        last_index -= 1\n",
    "    else:\n",
    "        print(\"The String is not Palindrom\")\n",
    "        break\n",
    "else:\n",
    "    print(\"The String is Palindrom\")\n",
    "\n",
    "    \n"
   ]
  },
  {
   "cell_type": "markdown",
   "metadata": {},
   "source": [
    "## print set of duplicates in a list"
   ]
  },
  {
   "cell_type": "code",
   "execution_count": 41,
   "metadata": {},
   "outputs": [
    {
     "name": "stdout",
     "output_type": "stream",
     "text": [
      "{1: 2, 2: 1, 3: 1, 4: 2, 5: 2, 6: 1, 7: 1, 8: 2}\n",
      "[1, 4, 5, 8]\n"
     ]
    }
   ],
   "source": [
    "input_list = [1,2,3,4,4,5,5,6,1,7,8,8]\n",
    "count = {}\n",
    "for i in input_list:\n",
    "    if i in count:\n",
    "        count[i] += 1\n",
    "    else:\n",
    "        count[i] = 1\n",
    "print(count)\n",
    "\n",
    "greater_than_two = []\n",
    "for key, value in count.items():\n",
    "    if value >= 2:\n",
    "        greater_than_two.append(key)\n",
    "print(greater_than_two)\n",
    "\n"
   ]
  },
  {
   "cell_type": "markdown",
   "metadata": {},
   "source": [
    "## Binary search--- Without recursion"
   ]
  },
  {
   "cell_type": "code",
   "execution_count": 1,
   "metadata": {},
   "outputs": [
    {
     "name": "stdout",
     "output_type": "stream",
     "text": [
      "Number Found\n"
     ]
    }
   ],
   "source": [
    "def binary_search(list1, number):\n",
    "    active = True\n",
    "    while active:\n",
    "        half_index = len(list1) // 2\n",
    "        if number >= list1[half_index]:\n",
    "            list1 = list1[half_index:]\n",
    "            if len(list1) == 1 and list1[0] == number:\n",
    "                print(\"Number Found\")\n",
    "                active = False\n",
    "            elif len(list1) == 1 and list1[0] != number:\n",
    "                print(\"Number Not Found\")\n",
    "                active = False\n",
    "        elif number <= list1[half_index]:\n",
    "            list1 = list1[:half_index]\n",
    "        \n",
    "\n",
    "\n",
    "\n",
    "list1 = [10, 20, 30, 40, 50, 60, 70, 80, 90]\n",
    "number = 40\n",
    "binary_search(list1, number)"
   ]
  },
  {
   "cell_type": "markdown",
   "metadata": {},
   "source": [
    "## Binary search--- With recursion"
   ]
  },
  {
   "cell_type": "code",
   "execution_count": null,
   "metadata": {},
   "outputs": [],
   "source": []
  },
  {
   "cell_type": "markdown",
   "metadata": {},
   "source": [
    "## Armstrong number ------153 = 1*1*1 + 5*5*5 + 3*3*3"
   ]
  },
  {
   "cell_type": "code",
   "execution_count": 6,
   "metadata": {},
   "outputs": [
    {
     "name": "stdout",
     "output_type": "stream",
     "text": [
      "Number is Amstrong Number\n"
     ]
    }
   ],
   "source": [
    "number = 153\n",
    "length_num = len(str(number))\n",
    "sum = 0\n",
    "temp = number\n",
    "while temp > 0:\n",
    "    digit = temp % 10\n",
    "    sum = sum + digit ** length_num\n",
    "    temp //= 10\n",
    "\n",
    "if sum == number:\n",
    "    print(\"Number is Amstrong Number\")\n",
    "else:\n",
    "    print(\"Number is not an amstrong number\")"
   ]
  },
  {
   "cell_type": "markdown",
   "metadata": {},
   "source": [
    "## finding FACTORIAL"
   ]
  },
  {
   "cell_type": "code",
   "execution_count": 18,
   "metadata": {},
   "outputs": [
    {
     "name": "stdout",
     "output_type": "stream",
     "text": [
      "120\n"
     ]
    }
   ],
   "source": [
    "num = 5\n",
    "factorial = 1\n",
    "if num > 0:\n",
    "    for i in range(1, num+1):\n",
    "        factorial = factorial * i\n",
    "\n",
    "print(factorial)"
   ]
  },
  {
   "cell_type": "markdown",
   "metadata": {},
   "source": [
    "## print number of words in a given statement"
   ]
  },
  {
   "cell_type": "code",
   "execution_count": 21,
   "metadata": {},
   "outputs": [
    {
     "name": "stdout",
     "output_type": "stream",
     "text": [
      "{'my': 2, 'name': 1, 'is': 2, 'swagatika': 1, 'and': 1, 'surname': 1, 'das': 1}\n"
     ]
    }
   ],
   "source": [
    "statement = \"my name is my swagatika and surname is das\"\n",
    "splitted = statement.split(\" \")\n",
    "count = {}\n",
    "for i in splitted:\n",
    "    if i in count:\n",
    "        count[i] += 1\n",
    "    else:\n",
    "        count[i] = 1\n",
    "\n",
    "print(count)"
   ]
  },
  {
   "cell_type": "markdown",
   "metadata": {},
   "source": [
    "# search a word in a list"
   ]
  },
  {
   "cell_type": "code",
   "execution_count": 24,
   "metadata": {},
   "outputs": [
    {
     "name": "stdout",
     "output_type": "stream",
     "text": [
      "Word Found\n"
     ]
    }
   ],
   "source": [
    "word = \"swagatika\"\n",
    "input_list = [\"my\", \"name\", \"is\",\"swagatika\",\"das\"]\n",
    "if word in input_list:\n",
    "    print(\"Word Found\")\n",
    "else:\n",
    "    print(\"Not Found\")"
   ]
  },
  {
   "cell_type": "markdown",
   "metadata": {},
   "source": [
    "# plot a simple bar chart"
   ]
  },
  {
   "cell_type": "code",
   "execution_count": 26,
   "metadata": {},
   "outputs": [
    {
     "data": {
      "image/png": "[encoded data removed]",
      "text/plain": [
       "<Figure size 640x480 with 1 Axes>"
      ]
     },
     "metadata": {},
     "output_type": "display_data"
    }
   ],
   "source": [
    "import matplotlib.pyplot as plt\n",
    "x = [1, 2, 3, 4, 5]\n",
    "y = [2, 3, 4, 5, 6]\n",
    "\n",
    "plt.bar(x, y, color=\"purple\")\n",
    "plt.show()"
   ]
  },
  {
   "cell_type": "markdown",
   "metadata": {},
   "source": [
    "## join 2 string with join()"
   ]
  },
  {
   "cell_type": "code",
   "execution_count": 32,
   "metadata": {},
   "outputs": [
    {
     "name": "stdout",
     "output_type": "stream",
     "text": [
      "vaibhavpatil\n"
     ]
    }
   ],
   "source": [
    "string = \"vaibhav\"\n",
    "string2 = \"patil\"\n",
    "result = \"\".join((string, string2))\n",
    "print(result)"
   ]
  },
  {
   "cell_type": "markdown",
   "metadata": {},
   "source": [
    "## extract digit from a given string"
   ]
  },
  {
   "cell_type": "code",
   "execution_count": 33,
   "metadata": {},
   "outputs": [
    {
     "name": "stdout",
     "output_type": "stream",
     "text": [
      "1234556779087656453\n"
     ]
    }
   ],
   "source": [
    "test_string = \"1sw2345fgr5677ggfd90876#$%%^&56453**(h\"\n",
    "test_string.split()\n",
    "new_list = []\n",
    "for i in test_string:\n",
    "    if i.isdigit() == True:\n",
    "        new_list.append(i)\n",
    "    else:\n",
    "        pass\n",
    "\n",
    "result = \"\".join(new_list)\n",
    "print(result)"
   ]
  },
  {
   "cell_type": "markdown",
   "metadata": {},
   "source": [
    "# delete any reoccurring character and return the new string"
   ]
  },
  {
   "cell_type": "code",
   "execution_count": 35,
   "metadata": {},
   "outputs": [
    {
     "name": "stdout",
     "output_type": "stream",
     "text": [
      "misp\n"
     ]
    }
   ],
   "source": [
    "input_string = \"mississippi\"\n",
    "input_string.split()\n",
    "new_list = []\n",
    "for i in input_string:\n",
    "    if i in new_list:\n",
    "        pass\n",
    "    else:\n",
    "        new_list.append(i)\n",
    "\n",
    "result = \"\".join(new_list)\n",
    "print(result)"
   ]
  },
  {
   "cell_type": "markdown",
   "metadata": {},
   "source": [
    "# find out common letters between 2 strings"
   ]
  },
  {
   "cell_type": "code",
   "execution_count": 43,
   "metadata": {},
   "outputs": [
    {
     "name": "stdout",
     "output_type": "stream",
     "text": [
      "['A', 'H', 'I']\n"
     ]
    }
   ],
   "source": [
    "string1 = \"HIMAADRI\"\n",
    "string2 = \"SHIAL\"\n",
    "string1.split()\n",
    "string2.split()\n",
    "new = []\n",
    "for i in string2:\n",
    "    if i in string1:\n",
    "        new.append(i)\n",
    "    else:\n",
    "        pass\n",
    "\n",
    "print(sorted(new))"
   ]
  },
  {
   "cell_type": "markdown",
   "metadata": {},
   "source": [
    "# Conversion of two list into Dictionary Using Python---------------------dictionary complehension"
   ]
  },
  {
   "cell_type": "code",
   "execution_count": 51,
   "metadata": {},
   "outputs": [
    {
     "name": "stdout",
     "output_type": "stream",
     "text": [
      "{1: 2, 2: 3, 3: 4, 4: 5, 5: 6}\n"
     ]
    }
   ],
   "source": [
    "list1 = [1, 2, 3, 4, 5]\n",
    "list2 = [2, 3, 4, 5, 6]\n",
    "result = {i: j for i, j in zip(list1, list2)}\n",
    "print(result)"
   ]
  },
  {
   "cell_type": "markdown",
   "metadata": {},
   "source": [
    "# Find Out Pairs with given sum in an array in python of time complexity O(n log n)----------"
   ]
  },
  {
   "cell_type": "code",
   "execution_count": 53,
   "metadata": {},
   "outputs": [
    {
     "name": "stdout",
     "output_type": "stream",
     "text": [
      "(7, 10)\n",
      "(8, 9)\n",
      "(9, 8)\n",
      "(10, 7)\n"
     ]
    }
   ],
   "source": [
    "arr = [5,7,4,3,9,8,19,21,10,11,6]\n",
    "sum = 17\n",
    "\n",
    "for i in range(0, len(arr)):\n",
    "    for j in range(0, len(arr)):\n",
    "        if i+j == sum:\n",
    "            print(f\"({i}, {j})\")\n",
    "        else:\n",
    "            pass"
   ]
  },
  {
   "cell_type": "markdown",
   "metadata": {},
   "source": [
    "##  armstong number in a range--------153"
   ]
  },
  {
   "cell_type": "code",
   "execution_count": 6,
   "metadata": {},
   "outputs": [
    {
     "name": "stdout",
     "output_type": "stream",
     "text": [
      "153\n",
      "370\n",
      "371\n",
      "407\n"
     ]
    }
   ],
   "source": [
    "def armstong_num(number):\n",
    "    length_num = len(str(number))\n",
    "    temp = number\n",
    "    sum = 0\n",
    "    while temp:\n",
    "        digit = temp % 10\n",
    "        sum = sum + digit**length_num\n",
    "        temp = temp // 10\n",
    "    return sum\n",
    "\n",
    "start = 100\n",
    "stop = 1000\n",
    "\n",
    "for i in range(start, stop+1):\n",
    "    x = armstong_num(i)\n",
    "\n",
    "    if x == i:\n",
    "        print(x)"
   ]
  },
  {
   "cell_type": "code",
   "execution_count": 10,
   "metadata": {},
   "outputs": [
    {
     "name": "stdout",
     "output_type": "stream",
     "text": [
      "Simple Interest20.0\n",
      "Compound Interest\n",
      "121.00000000000001\n"
     ]
    }
   ],
   "source": [
    "def compound_int(P, T, R):\n",
    "    simple_intrest = (P * T * R) / 100\n",
    "    print(f\"Simple Interest{simple_intrest}\")\n",
    "    print(\"Compound Interest\")\n",
    "    return P*(1+R/100)**T\n",
    "\n",
    "print(compound_int(100,2,10))"
   ]
  },
  {
   "cell_type": "markdown",
   "metadata": {},
   "source": [
    "## # anagram"
   ]
  },
  {
   "cell_type": "code",
   "execution_count": null,
   "metadata": {},
   "outputs": [],
   "source": []
  },
  {
   "cell_type": "code",
   "execution_count": null,
   "metadata": {},
   "outputs": [],
   "source": []
  }
 ],
 "metadata": {
  "kernelspec": {
   "display_name": "Python 3",
   "language": "python",
   "name": "python3"
  },
  "language_info": {
   "codemirror_mode": {
    "name": "ipython",
    "version": 3
   },
   "file_extension": ".py",
   "mimetype": "text/x-python",
   "name": "python",
   "nbconvert_exporter": "python",
   "pygments_lexer": "ipython3",
   "version": "3.12.5"
  }
 },
 "nbformat": 4,
 "nbformat_minor": 2
}
